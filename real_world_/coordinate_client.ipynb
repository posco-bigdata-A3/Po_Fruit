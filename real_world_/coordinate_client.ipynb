{
 "cells": [
  {
   "cell_type": "code",
   "execution_count": 2,
   "id": "0bbb8efc",
   "metadata": {},
   "outputs": [
    {
     "name": "stdout",
     "output_type": "stream",
     "text": [
      "원본 데이터 크기: 103 바이트\n",
      "Connected to server at 141.223.140.15:1025\n",
      "데이터 전송 성공 (압축 후 크기: 68 바이트)\n"
     ]
    }
   ],
   "source": [
    "import socket\n",
    "import json\n",
    "import struct\n",
    "import zlib\n",
    "from typing import Dict, List\n",
    "\n",
    "MAX_DATA_SIZE = 1024 * 1024  # 최대 1MB로 제한\n",
    "HOST = \"141.223.140.15\"\n",
    "PORT = 1025\n",
    "\n",
    "def send_object_info(object_info_dict: Dict[str, List[float]]):\n",
    "    try:\n",
    "        with socket.socket(socket.AF_INET, socket.SOCK_STREAM) as s:\n",
    "            s.settimeout(10)  # 타임아웃 설정을 10초로 변경\n",
    "            s.connect((HOST, PORT))\n",
    "            print(f\"Connected to server at {HOST}:{PORT}\")\n",
    "\n",
    "            # JSON 문자열로 변환, 인코딩 후 압축\n",
    "            json_data = json.dumps(object_info_dict).encode('utf-8')\n",
    "            compressed_data = zlib.compress(json_data)\n",
    "\n",
    "            # 데이터 크기 확인\n",
    "            data_len = len(compressed_data)\n",
    "            if data_len > MAX_DATA_SIZE:\n",
    "                raise ValueError(f\"데이터 크기가 최대 허용 크기({MAX_DATA_SIZE}바이트)를 초과합니다.\")\n",
    "\n",
    "            # 데이터 길이를 패킹\n",
    "            data_len_packed = struct.pack(\"!I\", data_len)\n",
    "\n",
    "            # 데이터 길이 전송\n",
    "            s.sendall(data_len_packed)\n",
    "\n",
    "            # 실제 데이터 전송\n",
    "            s.sendall(compressed_data)\n",
    "\n",
    "            print(f\"데이터 전송 성공 (압축 후 크기: {len(compressed_data)} 바이트)\")\n",
    "    except socket.timeout as e:\n",
    "        print(f\"소켓 타임아웃 발생: {e}\")\n",
    "    except socket.error as e:\n",
    "        print(f\"소켓 에러 발생: {e}\")\n",
    "    except ValueError as e:\n",
    "        print(f\"데이터 크기 초과 오류: {e}\")\n",
    "    except Exception as e:\n",
    "        print(f\"기타 오류 발생: {e}\")\n",
    "\n",
    "if __name__ == \"__main__\":\n",
    "    object_info_dict = {\n",
    "        \"object1\": [-8.0, 1.0, -2.0, 6.0],\n",
    "        \"object2\": [-1.0, 5.0, -4.0, 8.0],\n",
    "        \"object3\": [3.0, 4.0, 1.0, 2.0]\n",
    "    }\n",
    "    print(f\"원본 데이터 크기: {len(json.dumps(object_info_dict))} 바이트\")\n",
    "    send_object_info(object_info_dict)\n"
   ]
  },
  {
   "cell_type": "code",
   "execution_count": null,
   "id": "41d7a1a1",
   "metadata": {},
   "outputs": [],
   "source": []
  },
  {
   "cell_type": "code",
   "execution_count": null,
   "id": "ddebb3a4",
   "metadata": {},
   "outputs": [],
   "source": []
  }
 ],
 "metadata": {
  "kernelspec": {
   "display_name": "Python [conda env:base] *",
   "language": "python",
   "name": "conda-base-py"
  },
  "language_info": {
   "codemirror_mode": {
    "name": "ipython",
    "version": 3
   },
   "file_extension": ".py",
   "mimetype": "text/x-python",
   "name": "python",
   "nbconvert_exporter": "python",
   "pygments_lexer": "ipython3",
   "version": "3.10.9"
  }
 },
 "nbformat": 4,
 "nbformat_minor": 5
}
