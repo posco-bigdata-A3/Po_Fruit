{
 "cells": [
  {
   "cell_type": "code",
   "execution_count": null,
   "id": "5f0ed9bf-7ab1-494a-9a4a-72ad24569f00",
   "metadata": {},
   "outputs": [],
   "source": [
    "import time\n",
    "import numpy as np\n",
    "import cv2\n",
    "from scipy import optimize\n",
    "from real_world.realur5 import UR5RTDE\n",
    "from real_world.kinect import KinectClient\n",
    "\n",
    "measured_pts, observed_pts, observed_pix, world2camera = [None]*4"
   ]
  }
 ],
 "metadata": {
  "kernelspec": {
   "display_name": "pytorch171",
   "language": "python",
   "name": "pytorch171"
  },
  "language_info": {
   "codemirror_mode": {
    "name": "ipython",
    "version": 3
   },
   "file_extension": ".py",
   "mimetype": "text/x-python",
   "name": "python",
   "nbconvert_exporter": "python",
   "pygments_lexer": "ipython3",
   "version": "3.8.19"
  }
 },
 "nbformat": 4,
 "nbformat_minor": 5
}
