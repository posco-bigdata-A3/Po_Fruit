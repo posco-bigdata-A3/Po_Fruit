{
 "cells": [
  {
   "cell_type": "code",
   "execution_count": 1,
   "id": "987a71b2",
   "metadata": {},
   "outputs": [
    {
     "name": "stdout",
     "output_type": "stream",
     "text": [
      "Overwriting main.py\n"
     ]
    }
   ],
   "source": [
    "%%writefile main.py\n",
    "\n",
    "import matplotlib.pyplot as plt\n",
    "import time\n",
    "\n",
    "# kinect.py 파일에서 RealSenseClient class 가져오기\n",
    "from kinect import RealSenseClient\n",
    "\n",
    "# real_env.py 파일에서 RealEnv class 가져오기\n",
    "from real_env import RealEnv\n",
    "\n",
    "# Define the cropping values\n",
    "# 원본이미지가 640pxl * 480pxl 크기이면, 원본이미지에서 (0,0)~(300,300)까지의 부분만 남김. \n",
    "WS_CROP_X = (0, 300)\n",
    "WS_CROP_Y = (0, 300)\n",
    "\n",
    "def main():\n",
    "    # RealSenseClient 인스턴스 생성 - kinect.ipynb 파일\n",
    "    realsense = RealSenseClient()\n",
    "\n",
    "    task = \"example_task\" \n",
    "    all_objects = [\"biggest fruit\", \"small fruit_1\",\"small fruit_2\" ,\"small fruit_3\"]\n",
    "    task_objects = [\"biggest fruit\", \"small fruit\"]\n",
    "    # RealEnv 인스턴스 생성 - real_env.ipynb 파일\n",
    "    env = RealEnv(realsense, task, all_objects, task_objects)\n",
    "\n",
    "    counter = 0\n",
    "    limit = 10\n",
    "    sleep_time = 0.05\n",
    "\n",
    "    plt.ion()  # Interactive mode on\n",
    "    # fig, ax = plt.subplots(2, 2, figsize=(10, 5)) #2*2 서브플롯 생성\n",
    "\n",
    "    try:\n",
    "        while counter < limit:\n",
    "            # 환경으로부터 관찰 데이터 얻기 - 컬러이미지(color_im), 깊이이미지(depth_im)\n",
    "            obs = env.get_obs(save=True)\n",
    "            print(f\"Step counter at {counter}\")\n",
    "            print(f\"color_im shape: {obs.color_im.shape}\")\n",
    "            print(f\"depth_im shape: {obs.depth_im.shape}\")\n",
    "            \n",
    "            # Bounding box를 그리기 위해 plot_preds 호출 - real_env.ipynb 파일\n",
    "            env.plot_preds(obs.color_im, obs.objects, save=True, show=False)\n",
    "\n",
    "            plt.pause(0.001) # 플롯을 업데이트하고 잠시 멈춤\n",
    "            counter += 1 \n",
    "            time.sleep(sleep_time) # 잠시 대기 후 루프 반복\n",
    "    finally:\n",
    "        realsense.stop()\n",
    "         # 데이터 수집이 끝난 후 RealSense 카메라의 스트림을 안전하게 종료하고, 관련 리소스를 해제하여 메모리 누수나 다른 문제를 방지\n",
    "\n",
    "if __name__ == \"__main__\":\n",
    "    main()"
   ]
  },
  {
   "cell_type": "code",
   "execution_count": null,
   "id": "970b4268-9ab6-46ab-9058-8ede21f28151",
   "metadata": {},
   "outputs": [],
   "source": []
  }
 ],
 "metadata": {
  "kernelspec": {
   "display_name": "pytorch171",
   "language": "python",
   "name": "pytorch171"
  },
  "language_info": {
   "codemirror_mode": {
    "name": "ipython",
    "version": 3
   },
   "file_extension": ".py",
   "mimetype": "text/x-python",
   "name": "python",
   "nbconvert_exporter": "python",
   "pygments_lexer": "ipython3",
   "version": "3.8.19"
  }
 },
 "nbformat": 4,
 "nbformat_minor": 5
}
